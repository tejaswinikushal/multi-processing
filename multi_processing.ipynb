{
 "cells": [
  {
   "cell_type": "markdown",
   "id": "a0a77898",
   "metadata": {},
   "source": [
    "#### Q1. What is multiprocessing in python? Why is it useful?"
   ]
  },
  {
   "cell_type": "markdown",
   "id": "7b15c2a2",
   "metadata": {},
   "source": [
    "multiprocessing refers to the ability to execute multiple processes concurrently, allowing you to utilize multiple CPUs or cores of your machine. It is a module in the Python standard library that provides support for spawning processes, interprocess communication, and synchronization primitives.\n",
    "\n",
    "#### Uses:\n",
    "1.Improved performance: By leveraging multiple processors or cores, multiprocessing allows you to execute tasks simultaneously, effectively reducing the overall execution time. This is particularly beneficial for computationally intensive or time-consuming tasks, such as data processing, scientific simulations, or complex mathematical calculations.\n",
    "\n",
    "2.Utilizing available system resources: Modern machines often come equipped with multiple CPUs or cores. By utilizing multiprocessing, you can make full use of these resources and distribute the workload across them. This maximizes resource utilization and ensures efficient processing.\n",
    "\n",
    "3.Enhanced responsiveness: When you perform computationally intensive operations on a single processor, it may cause your program to become unresponsive or freeze temporarily. By offloading the workload to separate processes, multiprocessing allows your program to remain responsive and continue performing other tasks concurrently."
   ]
  },
  {
   "cell_type": "markdown",
   "id": "42b1f623",
   "metadata": {},
   "source": [
    "#### Q2. What are the differences between multiprocessing and multithreading?"
   ]
  },
  {
   "cell_type": "markdown",
   "id": "15ad2f54",
   "metadata": {},
   "source": [
    "#### 1.Execution model:\n",
    " In multiprocessing, multiple processes are created, each with its own memory space and resources. These processes run independently and communicate through interprocess communication (IPC) mechanisms like pipes, queues, or shared memory. In multithreading, multiple threads are created within a single process, sharing the same memory space and resources. Threads run concurrently and share data directly.\n",
    "\n",
    "#### 4.Communication and Synchronization: \n",
    "In multiprocessing, inter-process communication (IPC) mechanisms are used for communication and synchronization between different processes. This can include mechanisms like pipes, shared memory, or message passing, which often have higher overhead. In multithreading, threads operate within the same memory space, allowing for easier communication and synchronization using thread synchronization primitives like locks, condition variables, or semaphores.\n",
    "\n",
    "#### 2.Parallelism: \n",
    "Multiprocessing allows for true parallelism by utilizing multiple CPUs or cores. Each process can be executed on a separate CPU, enabling simultaneous execution. In contrast, multithreading achieves concurrency within a single CPU or core through time slicing. The operating system allocates time slices to each thread, giving the illusion of parallel execution, but the threads actually run sequentially.\n",
    "\n",
    "#### 3.Resource consumption:\n",
    "Multiprocessing generally consumes more system resources compared to multithreading. Each process has its own memory space and system overhead, such as process creation and context switching. In multithreading, threads share the same memory space, which reduces memory overhead and context switching costs.\n"
   ]
  },
  {
   "cell_type": "markdown",
   "id": "2fe72cc2",
   "metadata": {},
   "source": [
    "#### Q3. Write a python code to create a process using the multiprocessing module."
   ]
  },
  {
   "cell_type": "code",
   "execution_count": 1,
   "id": "75f5471a",
   "metadata": {},
   "outputs": [
    {
     "name": "stdout",
     "output_type": "stream",
     "text": [
      "Process encountered an error\n"
     ]
    }
   ],
   "source": [
    "import multiprocessing\n",
    "\n",
    "def my_process():\n",
    "    \"\"\"Function to be executed by the process\"\"\"\n",
    "    print(\"This is a child process\")\n",
    "\n",
    "if __name__ == '__main__':\n",
    "    process = multiprocessing.Process(target=my_process)\n",
    "    process.start()\n",
    "    process.join()\n",
    "    if process.exitcode == 0:\n",
    "        print(\"Process completed successfully\")\n",
    "    else:\n",
    "        print(\"Process encountered an error\")"
   ]
  },
  {
   "cell_type": "markdown",
   "id": "42bc8ca2",
   "metadata": {},
   "source": [
    "#### Q4. What is a multiprocessing pool in python? Why is it used?"
   ]
  },
  {
   "cell_type": "markdown",
   "id": "45aca066",
   "metadata": {},
   "source": [
    "multiprocessing pool is a feature provided by the multiprocessing module that allows for the concurrent execution of multiple tasks in parallel. It provides a convenient way to distribute work across multiple processes and utilize the available CPU resources efficiently.\n",
    "\n",
    "The multiprocessing module provides a Pool class that represents a pool of worker processes. It offers various methods for submitting tasks to the pool, managing the execution of tasks, and retrieving results. Some commonly used methods of the Pool class include:\n",
    "\n",
    "#### 1.apply(func, args): \n",
    "This method applies the function func to the arguments args and returns the result. It blocks until the task is complete.\n",
    "\n",
    "#### 2.map(func, iterable): \n",
    "This method maps the function func over the elements of the iterable and returns a list of results in the same order as the input. It blocks until all tasks are complete.\n",
    "\n",
    "#### 3.map_async(func, iterable):\n",
    "This method is similar to map, but it returns a AsyncResult object immediately. The AsyncResult object can be used to retrieve the results asynchronously using the get() method.\n",
    "\n",
    "#### Multiprocessing pools are used for several reasons:\n",
    "\n",
    "1.Parallel Execution: Pools enable parallel execution of tasks by distributing them across multiple processes. This can lead to significant performance improvements, especially when dealing with computationally intensive or I/O-bound tasks.\n",
    "\n",
    "2.Utilizing Multiple CPU Cores: By using a pool, you can take advantage of the available CPU cores or processors in your system. Each worker process in the pool can run on a separate core, allowing for better utilization of resources.\n"
   ]
  },
  {
   "cell_type": "markdown",
   "id": "2e70b353",
   "metadata": {},
   "source": [
    "#### Q5. How can we create a pool of worker processes in python using the multiprocessing module?"
   ]
  },
  {
   "cell_type": "markdown",
   "id": "f6db93a1",
   "metadata": {},
   "source": [
    "To create a pool of worker processes in Python using the multiprocessing module, you can follow these steps:\n",
    "\n",
    "#### 1.Import the necessary module:"
   ]
  },
  {
   "cell_type": "code",
   "execution_count": 5,
   "id": "d7602bbc",
   "metadata": {},
   "outputs": [],
   "source": [
    "import multiprocessing"
   ]
  },
  {
   "cell_type": "markdown",
   "id": "ab2259d2",
   "metadata": {},
   "source": [
    "2.Define a function that will be executed by each worker process. This function should take the required inputs and perform the desired tasks. Let's call this function worker_function for demonstration purposes:\n",
    "\n",
    "def worker_function(input):\n",
    "    # Perform the desired tasks using the input\n",
    "    # ...\n",
    "    # Return the result\n",
    "    return result\n",
    "    \n",
    "3.Create a Pool object from the multiprocessing module, specifying the number of worker processes you want in the pool. The number of processes can be determined based on the available CPU cores or any other requirement. For example, to create a pool with 4 worker processes, you can use:\n",
    "\n",
    "pool = multiprocessing.Pool(processes=4)\n",
    "\n",
    "4.Use the apply_async method of the Pool object to assign tasks to the worker processes. This method takes the worker function and the input arguments as its parameters. It returns a AsyncResult object that can be used to retrieve the result of the computation.\n",
    "\n",
    "result1 = pool.apply_async(worker_function, (input1,))\n",
    "result2 = pool.apply_async(worker_function, (input2,))\n",
    "\n",
    "5.If needed, you can retrieve the results by calling the get method on the AsyncResult objects. This will block the main process until the result is available. Here's an example\n",
    "\n",
    "result1_value = result1.get()\n",
    "result2_value = result2.get()\n",
    "\n",
    "6.After you have finished using the pool of worker processes, you should call the close method to prevent any more tasks from being submitted, and then call the join method to wait for all the worker processes to finish:\n",
    "\n",
    "pool.close()\n",
    "pool.join()"
   ]
  },
  {
   "cell_type": "markdown",
   "id": "2b8e8af6",
   "metadata": {},
   "source": [
    "#### Q6. Write a python program to create 4 processes, each process should print a different number using the multiprocessing module in python."
   ]
  },
  {
   "cell_type": "code",
   "execution_count": 3,
   "id": "7463d450",
   "metadata": {},
   "outputs": [
    {
     "name": "stdout",
     "output_type": "stream",
     "text": [
      "All processes have finished execution.\n"
     ]
    }
   ],
   "source": [
    "import multiprocessing\n",
    "\n",
    "def print_number(i):\n",
    "    \"\"\"Function to print a number\"\"\"\n",
    "    print(\"Process ID:\", multiprocessing.current_process().pid)\n",
    "    print(\"Number:\",i)\n",
    "\n",
    "if __name__ == '__main__':\n",
    "    numbers = [1, 2, 3, 4]\n",
    "\n",
    "    processes = []\n",
    "\n",
    "    for i in numbers:\n",
    "        process = multiprocessing.Process(target=print_number, args=(i,))\n",
    "        processes.append(process)\n",
    "    for process in processes:\n",
    "        process.start()\n",
    "    for process in processes:\n",
    "        process.join()\n",
    "\n",
    "    print(\"All processes have finished execution.\")\n"
   ]
  },
  {
   "cell_type": "code",
   "execution_count": null,
   "id": "9fedebcb",
   "metadata": {},
   "outputs": [],
   "source": []
  }
 ],
 "metadata": {
  "kernelspec": {
   "display_name": "Python 3 (ipykernel)",
   "language": "python",
   "name": "python3"
  },
  "language_info": {
   "codemirror_mode": {
    "name": "ipython",
    "version": 3
   },
   "file_extension": ".py",
   "mimetype": "text/x-python",
   "name": "python",
   "nbconvert_exporter": "python",
   "pygments_lexer": "ipython3",
   "version": "3.11.2"
  }
 },
 "nbformat": 4,
 "nbformat_minor": 5
}
